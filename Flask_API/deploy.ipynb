{
 "cells": [
  {
   "cell_type": "code",
   "execution_count": 1,
   "metadata": {},
   "outputs": [],
   "source": [
    "import numpy as np # linear alra\n",
    "import pandas as pd # data processing, CSV file I/O (e.g. pd.read_csv)\n",
    "\n",
    "\n",
    "import matplotlib.pyplot as plt\n",
    "import seaborn as sns\n",
    "\n",
    "from PIL import Image\n",
    "\n",
    "from sklearn.utils import shuffle\n",
    "\n",
    "\n",
    "from keras.preprocessing.image import ImageDataGenerator\n",
    "from keras.models import Sequential\n",
    "from keras.layers import Conv2D, MaxPooling2D, Dense, Dropout, Flatten\n",
    "from keras.optimizers import Adam\n",
    "from keras.losses import binary_crossentropy\n",
    "from keras.callbacks import LearningRateScheduler\n",
    "from keras.metrics import *\n",
    "\n",
    "\n",
    "import tensorflow as tf\n",
    "from flask import Flask,render_template,session,url_for,redirect,request,jsonify\n",
    "from flask_wtf import FlaskForm\n",
    "import os\n",
    "import os \n",
    "import matplotlib.pyplot as plt\n",
    "import matplotlib.image as mpimg\n",
    "import cv2\n",
    "\n",
    "from tensorflow.python.keras.models import load_model\n",
    "import pandas as pd\n",
    "import seaborn as sns\n",
    "from sklearn.metrics import confusion_matrix"
   ]
  },
  {
   "cell_type": "code",
   "execution_count": 2,
   "metadata": {},
   "outputs": [],
   "source": [
    "app = Flask(__name__)\n"
   ]
  },
  {
   "cell_type": "code",
   "execution_count": 3,
   "metadata": {},
   "outputs": [],
   "source": [
    "target_names = ['COVID-19', 'NORMAL', 'Viral Pneumonia']\n",
    "\n",
    "models=[]\n",
    "models.append(load_model('covid-resnet50.h5'))\n",
    "models.append(load_model('covid-mobilenet.h5'))\n",
    "models.append(load_model('covid-mobilenetV2.h5'))\n",
    "models.append(load_model('covid-DenseNet.h5'))\n",
    "\n",
    "model_index = {\n",
    "  \"resNet50\": 0,\n",
    "  \"mobileNet\": 1,\n",
    "  \"mobileNetV2\": 2,\n",
    "  \"denseNet\" : 3\n",
    "}"
   ]
  },
  {
   "cell_type": "code",
   "execution_count": 4,
   "metadata": {},
   "outputs": [],
   "source": [
    "def predict_image(model_name,img):\n",
    "    img=cv2.resize(img, dsize=(64,64), interpolation=cv2.INTER_AREA)\n",
    "    img=img/255.0\n",
    "    img=img.reshape(1,64,64,3)\n",
    "    my_model=models[model_index[model_name]]\n",
    "    x=my_model.predict(img)\n",
    "    y=x.argmax(axis=1)\n",
    "    x=x[0][y][0]\n",
    "    x=x*100\n",
    "    x=round(x,2)\n",
    "    answer = \"The \" + model_name+\" model predicts the given image as \" + target_names[y[0]] + \" with a confidence level:\"+ str(x)+\"%\"\n",
    "    return answer"
   ]
  },
  {
   "cell_type": "code",
   "execution_count": 5,
   "metadata": {},
   "outputs": [],
   "source": [
    "@app.route('/predict', methods=['POST'])\n",
    "def prediction():\n",
    "    if request.method == 'POST':\n",
    "        imagefile =np.array(Image.open(request.files['image']))\n",
    "        \n",
    "        resNet50 = predict_image(\"resNet50\",imagefile)\n",
    "        mobileNet = predict_image(\"mobileNet\",imagefile)\n",
    "        mobileNetV2 = predict_image(\"mobileNetV2\",imagefile)\n",
    "        denseNet = predict_image(\"denseNet\",imagefile)\n",
    "        return {\n",
    "            \"ResNet50\": resNet50,\n",
    "            \"MobileNet\": mobileNet,\n",
    "            \"MobileNetV2\": mobileNetV2,\n",
    "            \"DenseNet\": denseNet\n",
    "        } \n",
    "\n"
   ]
  },
  {
   "cell_type": "code",
   "execution_count": null,
   "metadata": {
    "scrolled": true
   },
   "outputs": [
    {
     "name": "stdout",
     "output_type": "stream",
     "text": [
      " * Serving Flask app \"__main__\" (lazy loading)\n",
      " * Environment: production\n",
      "   WARNING: This is a development server. Do not use it in a production deployment.\n",
      "   Use a production WSGI server instead.\n",
      " * Debug mode: off\n"
     ]
    },
    {
     "name": "stderr",
     "output_type": "stream",
     "text": [
      " * Running on http://127.0.0.1:5000/ (Press CTRL+C to quit)\n",
      "127.0.0.1 - - [02/Aug/2020 20:52:44] \"\u001b[37mPOST /predict HTTP/1.1\u001b[0m\" 200 -\n"
     ]
    }
   ],
   "source": [
    " \n",
    "if __name__ == '__main__':\n",
    "\tapp.run()"
   ]
  },
  {
   "cell_type": "code",
   "execution_count": null,
   "metadata": {},
   "outputs": [],
   "source": []
  },
  {
   "cell_type": "code",
   "execution_count": null,
   "metadata": {},
   "outputs": [],
   "source": []
  },
  {
   "cell_type": "code",
   "execution_count": null,
   "metadata": {},
   "outputs": [],
   "source": []
  },
  {
   "cell_type": "code",
   "execution_count": null,
   "metadata": {},
   "outputs": [],
   "source": []
  }
 ],
 "metadata": {
  "kernelspec": {
   "display_name": "Python 3",
   "language": "python",
   "name": "python3"
  },
  "language_info": {
   "codemirror_mode": {
    "name": "ipython",
    "version": 3
   },
   "file_extension": ".py",
   "mimetype": "text/x-python",
   "name": "python",
   "nbconvert_exporter": "python",
   "pygments_lexer": "ipython3",
   "version": "3.8.3"
  }
 },
 "nbformat": 4,
 "nbformat_minor": 4
}
